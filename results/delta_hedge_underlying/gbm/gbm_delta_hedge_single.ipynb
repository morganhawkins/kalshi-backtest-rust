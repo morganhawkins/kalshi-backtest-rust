{
 "cells": [
  {
   "cell_type": "code",
   "execution_count": null,
   "id": "60919e20",
   "metadata": {},
   "outputs": [],
   "source": [
    "import numpy as np\n",
    "import pandas as pd\n",
    "import matplotlib.pyplot as plt\n",
    "import json\n",
    "from pathlib import Path"
   ]
  },
  {
   "cell_type": "code",
   "execution_count": null,
   "id": "22452fad",
   "metadata": {},
   "outputs": [],
   "source": [
    "hedged_data_path = Path(\"./delta_hedged_buy.json\")\n",
    "unhedged_data_path = Path(\"../raw_buy.json\")\n",
    "with open(hedged_data_path, 'r') as f:\n",
    "    hedged_data = pd.DataFrame(json.load(f))\n",
    "with open(unhedged_data_path, 'r') as f:\n",
    "    unhedged_data = pd.DataFrame(json.load(f))"
   ]
  },
  {
   "cell_type": "code",
   "execution_count": null,
   "id": "0a1538a9",
   "metadata": {},
   "outputs": [],
   "source": [
    "hedged_data.head(3)"
   ]
  },
  {
   "cell_type": "code",
   "execution_count": null,
   "id": "29f2b86c",
   "metadata": {},
   "outputs": [],
   "source": [
    "plt.hist(hedged_data[\"terminal_value\"]*100-100, density=True, alpha=.5, label=\"delta hedged\", bins=25)\n",
    "plt.hist(unhedged_data[\"terminal_value\"]*100-100, density=True, alpha=.5, label=\"unhedged\", bins=17)\n",
    "plt.title(\"Distribution of Derivative Portfolio Returns\")\n",
    "plt.xlabel(\"% Return\")\n",
    "plt.ylabel(\"Density\")\n",
    "plt.legend()\n",
    "plt.show()"
   ]
  },
  {
   "cell_type": "code",
   "execution_count": null,
   "id": "48bff89e",
   "metadata": {},
   "outputs": [],
   "source": [
    "unhedged_var = np.var(unhedged_data[\"terminal_value\"])\n",
    "unhedged_mean = np.mean(unhedged_data[\"terminal_value\"])\n",
    "hedged_var = np.var(hedged_data[\"terminal_value\"])\n",
    "hedged_mean = np.mean(hedged_data[\"terminal_value\"])\n",
    "\n",
    "print(f\"unhedged \\n  mean: {unhedged_mean:.3}\\n  var: {unhedged_var:.3}\")\n",
    "print(f\"hedged \\n  mean: {hedged_mean:.3}\\n  var: {hedged_var:.3}\")"
   ]
  }
 ],
 "metadata": {
  "kernelspec": {
   "display_name": ".venv",
   "language": "python",
   "name": "python3"
  },
  "language_info": {
   "codemirror_mode": {
    "name": "ipython",
    "version": 3
   },
   "file_extension": ".py",
   "mimetype": "text/x-python",
   "name": "python",
   "nbconvert_exporter": "python",
   "pygments_lexer": "ipython3",
   "version": "3.13.5"
  }
 },
 "nbformat": 4,
 "nbformat_minor": 5
}
