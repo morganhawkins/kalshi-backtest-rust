{
 "cells": [
  {
   "cell_type": "code",
   "execution_count": 16,
   "id": "60919e20",
   "metadata": {},
   "outputs": [],
   "source": [
    "import numpy as np\n",
    "import pandas as pd\n",
    "import matplotlib.pyplot as plt\n",
    "import json\n",
    "from pathlib import Path"
   ]
  },
  {
   "cell_type": "code",
   "execution_count": 17,
   "id": "22452fad",
   "metadata": {},
   "outputs": [],
   "source": [
    "hedged_data_path = Path(\"./delta_hedged_buy.json\")\n",
    "unhedged_data_path = Path(\"../raw_buy.json\")\n",
    "with open(hedged_data_path, 'r') as f:\n",
    "    hedged_data = pd.DataFrame(json.load(f))\n",
    "with open(unhedged_data_path, 'r') as f:\n",
    "    unhedged_data = pd.DataFrame(json.load(f))"
   ]
  },
  {
   "cell_type": "code",
   "execution_count": 18,
   "id": "0a1538a9",
   "metadata": {},
   "outputs": [
    {
     "data": {
      "text/html": [
       "<div>\n",
       "<style scoped>\n",
       "    .dataframe tbody tr th:only-of-type {\n",
       "        vertical-align: middle;\n",
       "    }\n",
       "\n",
       "    .dataframe tbody tr th {\n",
       "        vertical-align: top;\n",
       "    }\n",
       "\n",
       "    .dataframe thead th {\n",
       "        text-align: right;\n",
       "    }\n",
       "</style>\n",
       "<table border=\"1\" class=\"dataframe\">\n",
       "  <thead>\n",
       "    <tr style=\"text-align: right;\">\n",
       "      <th></th>\n",
       "      <th>init_value</th>\n",
       "      <th>deriv_term_value</th>\n",
       "      <th>terminal_value</th>\n",
       "      <th>strike</th>\n",
       "      <th>start_ts</th>\n",
       "      <th>expir_ts</th>\n",
       "    </tr>\n",
       "  </thead>\n",
       "  <tbody>\n",
       "    <tr>\n",
       "      <th>0</th>\n",
       "      <td>1.0</td>\n",
       "      <td>1.0</td>\n",
       "      <td>1.431927</td>\n",
       "      <td>69500.0</td>\n",
       "      <td>1718020820</td>\n",
       "      <td>1718053199</td>\n",
       "    </tr>\n",
       "    <tr>\n",
       "      <th>1</th>\n",
       "      <td>1.0</td>\n",
       "      <td>0.0</td>\n",
       "      <td>0.898929</td>\n",
       "      <td>70500.0</td>\n",
       "      <td>1718020820</td>\n",
       "      <td>1718053199</td>\n",
       "    </tr>\n",
       "    <tr>\n",
       "      <th>2</th>\n",
       "      <td>1.0</td>\n",
       "      <td>0.0</td>\n",
       "      <td>0.572909</td>\n",
       "      <td>70000.0</td>\n",
       "      <td>1718020820</td>\n",
       "      <td>1718053199</td>\n",
       "    </tr>\n",
       "  </tbody>\n",
       "</table>\n",
       "</div>"
      ],
      "text/plain": [
       "   init_value  deriv_term_value  terminal_value   strike    start_ts  \\\n",
       "0         1.0               1.0        1.431927  69500.0  1718020820   \n",
       "1         1.0               0.0        0.898929  70500.0  1718020820   \n",
       "2         1.0               0.0        0.572909  70000.0  1718020820   \n",
       "\n",
       "     expir_ts  \n",
       "0  1718053199  \n",
       "1  1718053199  \n",
       "2  1718053199  "
      ]
     },
     "execution_count": 18,
     "metadata": {},
     "output_type": "execute_result"
    }
   ],
   "source": [
    "hedged_data.head(3)"
   ]
  },
  {
   "cell_type": "code",
   "execution_count": null,
   "id": "29f2b86c",
   "metadata": {},
   "outputs": [
    {
     "data": {
      "image/png": "[encoded data removed]",
      "text/plain": [
       "<Figure size 640x480 with 1 Axes>"
      ]
     },
     "metadata": {},
     "output_type": "display_data"
    }
   ],
   "source": [
    "plt.hist(hedged_data[\"terminal_value\"]*100-100, density=True, alpha=.5, label=\"delta hedged\", bins=25)\n",
    "plt.hist(unhedged_data[\"terminal_value\"]*100-100, density=True, alpha=.5, label=\"unhedged\", bins=17)\n",
    "plt.title(\"Distribution of Derivative Portfolio Returns\")\n",
    "plt.xlabel(\"% Return\")\n",
    "plt.ylabel(\"Density\")\n",
    "plt.legend()\n",
    "plt.show()"
   ]
  },
  {
   "cell_type": "code",
   "execution_count": 20,
   "id": "48bff89e",
   "metadata": {},
   "outputs": [
    {
     "name": "stdout",
     "output_type": "stream",
     "text": [
      "unhedged \n",
      "  mean: 0.986\n",
      "  var: 0.178\n",
      "hedged \n",
      "  mean: 0.986\n",
      "  var: 0.0511\n"
     ]
    }
   ],
   "source": [
    "unhedged_var = np.var(unhedged_data[\"terminal_value\"])\n",
    "unhedged_mean = np.mean(unhedged_data[\"terminal_value\"])\n",
    "hedged_var = np.var(hedged_data[\"terminal_value\"])\n",
    "hedged_mean = np.mean(hedged_data[\"terminal_value\"])\n",
    "\n",
    "print(f\"unhedged \\n  mean: {unhedged_mean:.3}\\n  var: {unhedged_var:.3}\")\n",
    "print(f\"hedged \\n  mean: {hedged_mean:.3}\\n  var: {hedged_var:.3}\")"
   ]
  }
 ],
 "metadata": {
  "kernelspec": {
   "display_name": ".venv",
   "language": "python",
   "name": "python3"
  },
  "language_info": {
   "codemirror_mode": {
    "name": "ipython",
    "version": 3
   },
   "file_extension": ".py",
   "mimetype": "text/x-python",
   "name": "python",
   "nbconvert_exporter": "python",
   "pygments_lexer": "ipython3",
   "version": "3.13.5"
  }
 },
 "nbformat": 4,
 "nbformat_minor": 5
}
